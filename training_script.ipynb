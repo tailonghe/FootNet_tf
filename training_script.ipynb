{
 "cells": [
  {
   "cell_type": "code",
   "execution_count": 1,
   "id": "a6f6ce2d-fbbe-4c89-8705-a965567eb7c8",
   "metadata": {},
   "outputs": [
    {
     "name": "stderr",
     "output_type": "stream",
     "text": [
      "2023-11-03 13:17:05.594152: I tensorflow/core/platform/cpu_feature_guard.cc:193] This TensorFlow binary is optimized with oneAPI Deep Neural Network Library (oneDNN) to use the following CPU instructions in performance-critical operations:  SSE4.1 SSE4.2 AVX AVX2 AVX512F AVX512_VNNI FMA\n",
      "To enable them in other operations, rebuild TensorFlow with the appropriate compiler flags.\n",
      "2023-11-03 13:17:06.982995: I tensorflow/core/util/util.cc:169] oneDNN custom operations are on. You may see slightly different numerical results due to floating-point round-off errors from different computation orders. To turn them off, set the environment variable `TF_ENABLE_ONEDNN_OPTS=0`.\n"
     ]
    }
   ],
   "source": [
    "from keras.callbacks import EarlyStopping, ModelCheckpoint, CSVLogger\n",
    "import pandas as pd\n",
    "import footnet as ftnet"
   ]
  },
  {
   "cell_type": "code",
   "execution_count": 2,
   "id": "5159d25a-4889-4346-bc26-032ebc7b1842",
   "metadata": {},
   "outputs": [],
   "source": [
    "import keras\n",
    "import os\n",
    "import tensorflow as tf\n",
    "import numpy as np\n",
    "import random\n",
    "\n",
    "def reset_random_seeds(seed):\n",
    "    os.environ['PYTHONHASHSEED']=str(seed)\n",
    "    tf.random.set_seed(seed)\n",
    "    np.random.seed(seed)\n",
    "    random.seed(seed)\n",
    "    \n",
    "reset_random_seeds(41)"
   ]
  },
  {
   "cell_type": "code",
   "execution_count": 3,
   "id": "b869b1eb-db46-478a-a289-cfebc6e6de27",
   "metadata": {},
   "outputs": [],
   "source": [
    "csv_logger = CSVLogger( 'train_log.csv', append=True, separator=';')\n",
    "earlystopper = EarlyStopping(patience=10, verbose=1)\n",
    "checkpointer = ModelCheckpoint('Unet_checkpt_{val_r2_keras:.2f}.h5', \n",
    "                               verbose=1, save_best_only=True)"
   ]
  },
  {
   "cell_type": "code",
   "execution_count": 4,
   "id": "b67f43d3-1859-448e-a835-65e201a3924c",
   "metadata": {},
   "outputs": [
    {
     "name": "stdout",
     "output_type": "stream",
     "text": [
      "14449 2550 3001\n"
     ]
    }
   ],
   "source": [
    "combdf = pd.read_csv('../combined_data_set_Sept11_20k.csv')\n",
    "train_list = list(combdf[combdf['flag'] == 1]['path'])\n",
    "valid_list = list(combdf[combdf['flag'] == 2]['path'])\n",
    "test_list = list(combdf[combdf['flag'] == 3]['path'])\n",
    "print(len(train_list), len(valid_list), len(test_list))"
   ]
  },
  {
   "cell_type": "code",
   "execution_count": 5,
   "id": "f54f435e-53aa-4f13-ad18-369c03fbb3a6",
   "metadata": {},
   "outputs": [],
   "source": [
    "train_DG = ftnet.data_generator_6h(train_list, batch_size=8)\n",
    "valid_DG = ftnet.data_generator_6h(valid_list, batch_size=8)"
   ]
  },
  {
   "cell_type": "code",
   "execution_count": 6,
   "id": "b9ce74c5-3304-4e02-b9a3-476b6bfc5abd",
   "metadata": {},
   "outputs": [
    {
     "name": "stderr",
     "output_type": "stream",
     "text": [
      "2023-11-03 13:18:31.514759: I tensorflow/core/platform/cpu_feature_guard.cc:193] This TensorFlow binary is optimized with oneAPI Deep Neural Network Library (oneDNN) to use the following CPU instructions in performance-critical operations:  SSE4.1 SSE4.2 AVX AVX2 AVX512F AVX512_VNNI FMA\n",
      "To enable them in other operations, rebuild TensorFlow with the appropriate compiler flags.\n",
      "2023-11-03 13:18:35.287338: I tensorflow/core/common_runtime/gpu/gpu_device.cc:1616] Created device /job:localhost/replica:0/task:0/device:GPU:0 with 13233 MB memory:  -> device: 0, name: NVIDIA A2, pci bus id: 0000:3b:00.0, compute capability: 8.6\n",
      "/home/disk/atmos/taihe/anaconda3/envs/tf2/lib/python3.10/site-packages/keras/optimizers/optimizer_v2/adam.py:114: UserWarning: The `lr` argument is deprecated, use `learning_rate` instead.\n",
      "  super().__init__(name, **kwargs)\n"
     ]
    }
   ],
   "source": [
    "model = ftnet.build_model()"
   ]
  },
  {
   "cell_type": "code",
   "execution_count": null,
   "id": "ae79175c-f867-497e-b01f-9b58bd374d4a",
   "metadata": {
    "scrolled": true,
    "tags": []
   },
   "outputs": [],
   "source": [
    "results = model.fit(train_DG, validation_data=valid_DG, epochs=1, shuffle=True, callbacks=[earlystopper, checkpointer, csv_logger])"
   ]
  }
 ],
 "metadata": {
  "kernelspec": {
   "display_name": "Python 3 (ipykernel)",
   "language": "python",
   "name": "python3"
  },
  "language_info": {
   "codemirror_mode": {
    "name": "ipython",
    "version": 3
   },
   "file_extension": ".py",
   "mimetype": "text/x-python",
   "name": "python",
   "nbconvert_exporter": "python",
   "pygments_lexer": "ipython3",
   "version": "3.10.6"
  }
 },
 "nbformat": 4,
 "nbformat_minor": 5
}
